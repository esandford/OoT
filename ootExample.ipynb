{
 "cells": [
  {
   "cell_type": "code",
   "execution_count": 1,
   "metadata": {
    "collapsed": false
   },
   "outputs": [],
   "source": [
    "from __future__ import division\n",
    "import oot\n",
    "import numpy as np\n",
    "import matplotlib.pyplot as plt\n",
    "import matplotlib as mpl\n",
    "%load_ext autoreload\n",
    "%autoreload 2"
   ]
  },
  {
   "cell_type": "code",
   "execution_count": 2,
   "metadata": {
    "collapsed": true
   },
   "outputs": [],
   "source": [
    "planet=oot.planet()\n",
    "planet.M=1 #sun-like star\n",
    "planet.R=1\n",
    "planet.Mp=0.001 #jupiter-like planet\n",
    "planet.Rp=0.1\n",
    "planet.a=20 #mercury like eccentricity, at a quarter of the distance\n",
    "planet.e=0.2\n",
    "planet.vTheta=np.pi/2 #viewed from an oblique angle\n",
    "planet.vPhi=np.pi/4\n",
    "\n",
    "period=oot.findPeriod(planet)\n",
    "ts=np.linspace(-period/2,period/2,200)"
   ]
  },
  {
   "cell_type": "code",
   "execution_count": 3,
   "metadata": {
    "collapsed": false
   },
   "outputs": [
    {
     "name": "stderr",
     "output_type": "stream",
     "text": [
      "oot.py:142: RuntimeWarning: invalid value encountered in arccos\n",
      "  firstTerm=((rUnit*pl.Rp)**2)*np.arccos((d**2 + (rUnit*pl.Rp)**2 - pl.R**2)/(2*d*(rUnit*pl.Rp)))\n",
      "oot.py:143: RuntimeWarning: invalid value encountered in arccos\n",
      "  secondTerm=(pl.R**2)*np.arccos((d**2 + pl.R**2 - (rUnit*pl.Rp)**2)/(2*d*pl.R))\n",
      "oot.py:144: RuntimeWarning: invalid value encountered in sqrt\n",
      "  thirdTerm=-0.5*np.sqrt((d+(rUnit*pl.Rp)+pl.R)*(d+(rUnit*pl.Rp)-pl.R)*(d+pl.R-(rUnit*pl.Rp))*(-d+pl.R+(rUnit*pl.Rp)))\n"
     ]
    }
   ],
   "source": [
    "delta=oot.deltaSum(ts,planet)\n",
    "tides=oot.deltaTide(ts,planet)\n",
    "beaming=oot.deltaBeam(ts,planet)\n",
    "reflections=oot.deltaReflect(ts,planet)\n",
    "\n",
    "deltaPlot=plt.gca()\n",
    "deltaPlot.plot(ts,1e6*delta,c='k',lw=4)\n",
    "deltaPlot.plot(ts,1e6*tides,c='darkred',lw=3)\n",
    "deltaPlot.plot(ts,1e6*beaming,c='red',lw=3)\n",
    "deltaPlot.plot(ts,1e6*reflections,c='orange',lw=3)\n",
    "deltaPlot.set_xlabel('time, relative to periapse (days)')\n",
    "deltaPlot.set_ylabel(r'$\\delta$ (ppm)')\n",
    "plt.show()\n",
    "#plt.savefig('examplePlot.png')"
   ]
  },
  {
   "cell_type": "code",
   "execution_count": 4,
   "metadata": {
    "collapsed": false
   },
   "outputs": [],
   "source": [
    "# We'll need quite a different planet/star to make the todal velocity visible\n",
    "planet=oot.planet()\n",
    "planet.M=1 #giant star\n",
    "planet.R=4\n",
    "planet.Mp=0.01 #Supiter\n",
    "planet.Rp=0.1\n",
    "planet.a=10 #close eccentric orbit\n",
    "planet.e=0.5\n",
    "planet.vTheta=np.pi/2 #viewed from an oblique angle\n",
    "planet.vPhi=np.pi/4\n",
    "\n",
    "period=oot.findPeriod(planet)\n",
    "ts=np.linspace(-period/2,period/2,200)\n",
    "\n",
    "velocity=oot.vSum(ts,planet)\n",
    "vTide=oot.vTide(ts,planet)\n",
    "vOrbit=oot.vOrbit(ts,planet)\n",
    "\n",
    "vPlot=plt.gca()\n",
    "vPlot.plot(ts,velocity,c='k',lw=4)\n",
    "vPlot.plot(ts,vTide,c='darkred',lw=3)\n",
    "vPlot.plot(ts,vOrbit,c='orange',lw=3)\n",
    "vPlot.set_xlabel('time, relative to periapse (days)')\n",
    "vPlot.set_ylabel(r'$v$ ($ms^{-1}$)')\n",
    "plt.show()"
   ]
  },
  {
   "cell_type": "code",
   "execution_count": null,
   "metadata": {
    "collapsed": true
   },
   "outputs": [],
   "source": []
  }
 ],
 "metadata": {
  "kernelspec": {
   "display_name": "Python 2",
   "language": "python",
   "name": "python2"
  },
  "language_info": {
   "codemirror_mode": {
    "name": "ipython",
    "version": 2
   },
   "file_extension": ".py",
   "mimetype": "text/x-python",
   "name": "python",
   "nbconvert_exporter": "python",
   "pygments_lexer": "ipython2",
   "version": "2.7.6"
  }
 },
 "nbformat": 4,
 "nbformat_minor": 2
}
